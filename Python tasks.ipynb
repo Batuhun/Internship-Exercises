{
 "cells": [
  {
   "cell_type": "markdown",
   "id": "0cb157d6",
   "metadata": {},
   "source": [
    "# Galacz Barnabas: Python Algorithmic Tasks"
   ]
  },
  {
   "cell_type": "markdown",
   "id": "6dcc0ba7",
   "metadata": {},
   "source": [
    "### Problem 1"
   ]
  },
  {
   "cell_type": "code",
   "execution_count": 41,
   "id": "455a3369",
   "metadata": {},
   "outputs": [],
   "source": [
    "#runs through all possible substrings of the given strings and if it finds a longer substring then the\n",
    "#previous longest it replaces it with the new longest after it went through all possible substrings it \n",
    "#returns the lenght of the longest it founds\n",
    "def subs(str):\n",
    "    if(len(str)>5*10**4 or len(str)<=0):\n",
    "       return\n",
    "    temp=''\n",
    "    ret=''\n",
    "    for i in range(len(str)):\n",
    "        temp+=str[i]\n",
    "        j=1\n",
    "        while(check(temp)):\n",
    "            if (len(ret)<len(temp)):\n",
    "                ret=temp\n",
    "            if (i+j==len(str)):\n",
    "                break\n",
    "            temp+=str[i+j]\n",
    "            j+=1\n",
    "        temp=''\n",
    "    return len(ret)\n",
    "    "
   ]
  },
  {
   "cell_type": "code",
   "execution_count": 42,
   "id": "8b8f8dba",
   "metadata": {},
   "outputs": [],
   "source": [
    "#checks if a string contains repeating characters, returns true if it doesn't\n",
    "def check(str):\n",
    "    for i in range(len(str)-1):\n",
    "        for j in range(i+1,len(str)):\n",
    "            if (str[i]==str[j]):\n",
    "                return False\n",
    "    return True\n",
    "            "
   ]
  },
  {
   "cell_type": "code",
   "execution_count": 43,
   "id": "31b54233",
   "metadata": {},
   "outputs": [
    {
     "name": "stdout",
     "output_type": "stream",
     "text": [
      "3\n"
     ]
    }
   ],
   "source": [
    "print(subs('pwwkew'))"
   ]
  },
  {
   "cell_type": "markdown",
   "id": "52dba093",
   "metadata": {},
   "source": [
    "### Problem 2"
   ]
  },
  {
   "cell_type": "code",
   "execution_count": 26,
   "id": "89740eae",
   "metadata": {},
   "outputs": [],
   "source": [
    "#the main function that sorts out the duplicates and cuts up the string into a list\n",
    "def par(n):\n",
    "    if(n<1 or n>9):\n",
    "        return\n",
    "    return list(set(rec('()',n).split(',')))\n",
    "    \n",
    "    "
   ]
  },
  {
   "cell_type": "code",
   "execution_count": 27,
   "id": "7b2cdada",
   "metadata": {},
   "outputs": [],
   "source": [
    "#recursive function that gets all possible combinations of ()s\n",
    "def rec(str,n):\n",
    "    if(n==1):\n",
    "        return str\n",
    "    else:\n",
    "        return rec('('+str+')',n-1)+','+rec('()'+str,n-1)+','+rec(str+'()',n-1)"
   ]
  },
  {
   "cell_type": "code",
   "execution_count": 34,
   "id": "722a3bec",
   "metadata": {},
   "outputs": [
    {
     "name": "stdout",
     "output_type": "stream",
     "text": [
      "['()()()', '((()))', '(())()', '(()())', '()(())']\n"
     ]
    }
   ],
   "source": [
    "print(par(3))"
   ]
  },
  {
   "cell_type": "markdown",
   "id": "622ecfa1",
   "metadata": {},
   "source": [
    "### Problem 3"
   ]
  },
  {
   "cell_type": "code",
   "execution_count": 24,
   "id": "df7e4653",
   "metadata": {},
   "outputs": [],
   "source": [
    "#recursive function that goes through a word and at first gets the 1 letter palindromes then 2 and so on and\n",
    "#also returns '--' symbols so it is easier to assemble the palindromes into full words\n",
    "def rec2(str,ret):\n",
    "    for i in range(len(str)+1):\n",
    "        txt=str[0:i]\n",
    "        if(txt == txt[::-1] and txt!=''):\n",
    "            ret.append(txt)\n",
    "            rec2(str[i:len(str)+1],ret)\n",
    "    ret.append('--')\n",
    "    return "
   ]
  },
  {
   "cell_type": "code",
   "execution_count": 30,
   "id": "2b3efc49",
   "metadata": {},
   "outputs": [],
   "source": [
    "\n",
    "def pal(str):\n",
    "    if (len(str)<1 or len(str)>16 or str!=str.casefold()):\n",
    "        return\n",
    "    #temporary list that stores the data fro mthe recursive function\n",
    "    temp = []\n",
    "    rec2(str,temp)\n",
    "    ret=[]\n",
    "    #the leght of 1 word that is beiing written out\n",
    "    wordlen=0\n",
    "    #how many '--' s are after that word\n",
    "    linelen=0\n",
    "    #to fill the first part of we need to copy from the previous word this specifies how many letters\n",
    "    end=0\n",
    "    #2 iterators\n",
    "    j=0\n",
    "    i=0\n",
    "    ret.append([])\n",
    "    while True:\n",
    "        #reads in the word\n",
    "        while temp[i] != '--':\n",
    "            ret[j].append(temp[i])\n",
    "            i+=1\n",
    "            wordlen+=1\n",
    "        #reads in the '--' s\n",
    "        while temp[i] == '--':\n",
    "            if i > len(temp)-2:\n",
    "                break\n",
    "            linelen+=1\n",
    "            i+=1\n",
    "            \n",
    "        if i > len(temp)-2:\n",
    "            break\n",
    "        \n",
    "        ret.append([])\n",
    "        j+=1\n",
    "        \n",
    "        end=end+wordlen-linelen\n",
    "        #fills out the next words first part if it's missing\n",
    "        for k in range(0, end):\n",
    "            ret[j].append(ret[j-1][k]) \n",
    "            \n",
    "            \n",
    "        wordlen=0\n",
    "        linelen=0\n",
    "\n",
    "    return ret"
   ]
  },
  {
   "cell_type": "code",
   "execution_count": 33,
   "id": "4c61ba7b",
   "metadata": {},
   "outputs": [
    {
     "name": "stdout",
     "output_type": "stream",
     "text": [
      "[['a', 'a', 'b'], ['aa', 'b']]\n"
     ]
    }
   ],
   "source": [
    "print(pal('aab'))"
   ]
  }
 ],
 "metadata": {
  "kernelspec": {
   "display_name": "Python 3 (ipykernel)",
   "language": "python",
   "name": "python3"
  },
  "language_info": {
   "codemirror_mode": {
    "name": "ipython",
    "version": 3
   },
   "file_extension": ".py",
   "mimetype": "text/x-python",
   "name": "python",
   "nbconvert_exporter": "python",
   "pygments_lexer": "ipython3",
   "version": "3.9.12"
  }
 },
 "nbformat": 4,
 "nbformat_minor": 5
}
